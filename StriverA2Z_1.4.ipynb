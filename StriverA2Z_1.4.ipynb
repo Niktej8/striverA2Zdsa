{
 "cells": [
  {
   "cell_type": "markdown",
   "metadata": {},
   "source": [
    "### Count digits in a number\n",
    "Problem Statement: Given an integer N, write a program to count the number of digits in N.\n",
    "\n",
    "Examples\n",
    "Example 1:\n",
    "Input: N = 12345\n",
    "Output: 5\n",
    "Explanation: N has 5 digits\n",
    "\n",
    "Example 2:\n",
    "Input: N = 8394\n",
    "Output: 4\n",
    "Explanation: N has 4 digits"
   ]
  },
  {
   "cell_type": "code",
   "execution_count": null,
   "metadata": {},
   "outputs": [],
   "source": [
    "n = 12345\n",
    "print(len(str(n)))\n",
    "#Time complexity - O(1)\n",
    "#Space complexity - O(1)"
   ]
  },
  {
   "cell_type": "code",
   "execution_count": null,
   "metadata": {},
   "outputs": [],
   "source": [
    "count = 0\n",
    "n = 12345\n",
    "while n>0:\n",
    "    n = n//10\n",
    "    count += 1\n",
    "print(count)\n",
    "#Time complexity - O(N)\n",
    "#Space complexity - O(1)"
   ]
  },
  {
   "cell_type": "code",
   "execution_count": null,
   "metadata": {},
   "outputs": [],
   "source": [
    "import math\n",
    "math.floor(math.log10(12345)+1)\n",
    "#Time complexity - O(1)\n",
    "#Space complexity - O(1)"
   ]
  },
  {
   "cell_type": "markdown",
   "metadata": {},
   "source": [
    "### Reverse a number\n",
    "Problem Statement: Given a number N reverse the number and print it.\n",
    "\n",
    "Examples:\n",
    "\n",
    "Example 1:\n",
    "Input: N = 123\n",
    "Output: 321\n",
    "Explanation: The reverse of 123 is 321\n",
    "\n",
    "Example 2:\n",
    "Input: N = 234\n",
    "Output: 432\n",
    "Explanation: The reverse of 234 is 432"
   ]
  },
  {
   "cell_type": "code",
   "execution_count": null,
   "metadata": {},
   "outputs": [],
   "source": [
    "n = 1234567\n",
    "rev = 0\n",
    "while n>0:\n",
    "    rev = rev*10+n%10\n",
    "    n = n//10\n",
    "print(rev)\n",
    "#Time complexity - O(logN)\n",
    "#Space complexity - O(1)"
   ]
  },
  {
   "cell_type": "markdown",
   "metadata": {},
   "source": [
    "### Check a number is Palindrom or not\n",
    "Problem Statement:  Given a number check if it is a palindrome.\n",
    "\n",
    "An integer is considered a palindrome when it reads the same backward as forward.\n",
    "\n",
    "Examples:\n",
    "\n",
    "Example 1:\n",
    "Input: N = 123\n",
    "Output: Not Palindrome Number\n",
    "Explanation: 123 read backwards is 321.Since these are two different numbers 123 is not a palindrome.\n",
    "\n",
    "Example 2:\n",
    "Input: N =  121 \n",
    "Output: Palindrome Number\n",
    "Explanation: 121 read backwards as 121.Since these are two same numbers 121 is a palindrome."
   ]
  },
  {
   "cell_type": "code",
   "execution_count": null,
   "metadata": {},
   "outputs": [],
   "source": [
    "def reverse(n):\n",
    "    rev = 0\n",
    "    while n>0:\n",
    "        rev = rev*10+n%10\n",
    "        n = n//10\n",
    "    return rev\n",
    "n=12421\n",
    "if n == reverse(n):\n",
    "    print(\"Palindrome\")\n",
    "else:\n",
    "    print(\"Not Palindrome\")\n",
    "#Time complexity - O(logN)\n",
    "#Space complexity - O(1)"
   ]
  },
  {
   "cell_type": "markdown",
   "metadata": {},
   "source": [
    "### Find GCD or HCF of two numbers\n",
    "Problem Statement: Find the gcd of two numbers.\n",
    "\n",
    "Examples\n",
    "Example 1:\n",
    "Input: num1 = 4, num2 = 8\n",
    "Output: 4\n",
    "Explanation: Since 4 is the greatest number which divides both num1 and num2.\n",
    "\n",
    "Example 2:\n",
    "Input: num1 = 3, num2 = 6\n",
    "Output: 3\n",
    "Explanation: Since 3 is the greatest number which divides both num1 and num2."
   ]
  },
  {
   "cell_type": "code",
   "execution_count": null,
   "metadata": {},
   "outputs": [],
   "source": [
    "num1 = 3\n",
    "num2 = 6\n",
    "num1_factors = [i for i in range(1,num1+1) if num1%i == 0]\n",
    "num2_factors = [i for i in range(1,num2+1) if num2%i == 0]\n",
    "Gcd = max([i for i in num1_factors if i in num2_factors])\n",
    "Gcd\n",
    "#Time complexity - O(2N)\n",
    "#Space complexity - O(N)"
   ]
  },
  {
   "cell_type": "code",
   "execution_count": null,
   "metadata": {},
   "outputs": [],
   "source": [
    "gcd = 0\n",
    "for i in range(1,min(num1,num2)+1):\n",
    "    if num1%i==0 and num2%i==0:\n",
    "        gcd = i\n",
    "gcd \n",
    "#Time complexity - O(N)\n",
    "#Space complexity - O(1)"
   ]
  },
  {
   "cell_type": "code",
   "execution_count": null,
   "metadata": {},
   "outputs": [],
   "source": [
    "def gcd(a,b):\n",
    "    if b == 0:\n",
    "        return a\n",
    "    return gcd(b,a%b)\n",
    "#Time complexity - O(log min(a,b))\n",
    "#Space complexity - O(1)\n",
    "gcd(4,8)"
   ]
  },
  {
   "cell_type": "markdown",
   "metadata": {},
   "source": [
    "## Check if a number is Armstrong Number or not\n",
    "Problem Statement: Given a number, check if it is Armstrong Number or Not.\n",
    "\n",
    "Examples:\n",
    "\n",
    "Example 1:\n",
    "Input:153 \n",
    "Output: Yes, it is an Armstrong Number\n",
    "Explanation: 1^3 + 5^3 + 3^3 = 153\n",
    "\n",
    "Input:170 \n",
    "Output: No, it is not an Armstrong Number\n",
    "Explanation: 1^3 + 7^3 + 0^3 != 170"
   ]
  },
  {
   "cell_type": "code",
   "execution_count": null,
   "metadata": {},
   "outputs": [],
   "source": [
    "number = 153\n",
    "input_number = number\n",
    "n = len(str(number))\n",
    "result = 0\n",
    "while number>0:\n",
    "    rem = number%10\n",
    "    result = result + rem**n\n",
    "    number = number//10\n",
    "if input_number == result:\n",
    "    print(\"Armstrong Number\")\n",
    "else:\n",
    "    print(\"Not Armstrong Number\")\n",
    "#Time complexity - O(N)\n",
    "#Space complexity - O(1)"
   ]
  },
  {
   "cell_type": "markdown",
   "metadata": {},
   "source": [
    "## Print all Divisors of a given Number\n",
    "Problem Statement: Given a number, print all the divisors of the number. A divisor is a number that gives the remainder as zero when divided.\n",
    "\n",
    "Examples\n",
    "Example 1:\n",
    "Input: n = 36\n",
    "Output: 1 2 3 4 6 9 12 18 36\n",
    "Explanation: All the divisors of 36 are printed.\n",
    "\n",
    "Example 2:\n",
    "Input: n = 97\n",
    "Output: 1 97\n",
    "Explanation: Since 97 is a prime number, only 1 and 97 are printed."
   ]
  },
  {
   "cell_type": "code",
   "execution_count": null,
   "metadata": {},
   "outputs": [],
   "source": [
    "divisors = [i for i in range(1,36+1) if 36%i == 0]\n",
    "print(divisors)\n",
    "#Time complexity - O(N)\n",
    "#Space complexity - O(1)"
   ]
  },
  {
   "cell_type": "code",
   "execution_count": null,
   "metadata": {},
   "outputs": [],
   "source": [
    "n=36\n",
    "for i in range(1,int(n**0.5)+1):\n",
    "    if n%i==0:\n",
    "        print(i,end=\" \")\n",
    "        if i!=n//i:\n",
    "            print(n//i,end=\" \")\n",
    "#Time complexity - O(sqrt(N))\n",
    "#Space complexity - O(1)"
   ]
  },
  {
   "cell_type": "markdown",
   "metadata": {},
   "source": [
    "### Check if a number is prime or not\n",
    "Problem Statement: Given a number, check whether it is prime or not. A prime number is a natural number that is only divisible by 1 and by itself.\n",
    "\n",
    "Examples 1 2 3 5 7 11 13 17 19 …\n",
    "\n",
    "Examples\n",
    "Example 1:\n",
    "Input: N = 3\n",
    "Output: Prime\n",
    "Explanation: 3 is a prime number\n",
    "\n",
    "Example 2:\n",
    "Input: N = 26\n",
    "Output: Non-Prime\n",
    "Explanation: 26 is not prime"
   ]
  },
  {
   "cell_type": "code",
   "execution_count": null,
   "metadata": {},
   "outputs": [],
   "source": [
    "n=26\n",
    "for i in range(2,n):\n",
    "    if n%i==0:\n",
    "        print(\"Not Prime\")\n",
    "        break\n",
    "else:\n",
    "    print(\"Prime\")\n",
    "#Time complexity - O(N)\n",
    "#Space complexity - O(1)"
   ]
  },
  {
   "cell_type": "code",
   "execution_count": null,
   "metadata": {},
   "outputs": [],
   "source": [
    "n=29\n",
    "for i in range(2,int(n**0.5)+1):\n",
    "    if n%i==0:\n",
    "        print(\"Not Prime\")\n",
    "        break\n",
    "else:\n",
    "    print(\"Prime\")\n",
    "#Time complexity - O(sqrt(N))\n",
    "#Space complexity - O(1)"
   ]
  }
 ],
 "metadata": {
  "kernelspec": {
   "display_name": "Python 3",
   "language": "python",
   "name": "python3"
  },
  "language_info": {
   "codemirror_mode": {
    "name": "ipython",
    "version": 3
   },
   "file_extension": ".py",
   "mimetype": "text/x-python",
   "name": "python",
   "nbconvert_exporter": "python",
   "pygments_lexer": "ipython3",
   "version": "3.8.5"
  }
 },
 "nbformat": 4,
 "nbformat_minor": 4
}
