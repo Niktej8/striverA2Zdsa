{
 "cells": [
  {
   "cell_type": "markdown",
   "metadata": {},
   "source": [
    "## Bubble Sort"
   ]
  },
  {
   "cell_type": "code",
   "execution_count": null,
   "metadata": {},
   "outputs": [],
   "source": [
    "l=[13,46,24,52,20,9]\n",
    "for j in range(len(l)-1):\n",
    "    for i in range(len(l)-1):\n",
    "        if l[i]>l[i+1]:\n",
    "            l[i],l[i+1] = l[i+1],l[i]\n",
    "print(l)"
   ]
  },
  {
   "cell_type": "markdown",
   "metadata": {},
   "source": [
    "## Selection Sort"
   ]
  },
  {
   "cell_type": "code",
   "execution_count": null,
   "metadata": {},
   "outputs": [],
   "source": [
    "l=[13,46,24,52,20,9]\n",
    "for j in range(len(l)):\n",
    "    min_ele = j\n",
    "    for i in range(j+1,len(l)):\n",
    "        if l[i]<l[min_ele]:\n",
    "            min_ele=i\n",
    "    l[j],l[min_ele] = l[min_ele],l[j]\n",
    "print(l)"
   ]
  },
  {
   "cell_type": "markdown",
   "metadata": {},
   "source": [
    "## Insertion Sort"
   ]
  },
  {
   "cell_type": "code",
   "execution_count": null,
   "metadata": {},
   "outputs": [],
   "source": [
    "l=[13,46,24,52,20,9]\n",
    "for i in range(1,len(l)):\n",
    "    for j in range(i,0,-1):\n",
    "        if l[j]<l[j-1]:\n",
    "            l[j],l[j-1] = l[j-1],l[j]\n",
    "print(l)"
   ]
  },
  {
   "cell_type": "code",
   "execution_count": null,
   "metadata": {},
   "outputs": [],
   "source": [
    "l=[13,46,24,52,20,9]\n",
    "for i in range(1,len(l)):\n",
    "    curr = l[i]\n",
    "    pos=i\n",
    "    while curr<l[pos-1] and pos>0:\n",
    "        l[pos] = l[pos-1]\n",
    "        pos-=1\n",
    "    l[pos] = curr\n",
    "print(l)"
   ]
  },
  {
   "cell_type": "markdown",
   "metadata": {},
   "source": [
    "## Merge Sort"
   ]
  },
  {
   "cell_type": "code",
   "execution_count": null,
   "metadata": {},
   "outputs": [],
   "source": [
    "def merge_sorted_array(arr,low,mid,high):\n",
    "    temp=[]\n",
    "    left = low\n",
    "    right = mid+1\n",
    "    while left<=mid and right<=high:\n",
    "        if arr[left]<arr[right]:\n",
    "            temp.append(arr[left])\n",
    "            left+=1\n",
    "        else:\n",
    "            temp.append(arr[right])\n",
    "            right+=1\n",
    "    while left<=mid:\n",
    "        temp.append(arr[left])\n",
    "        left+=1\n",
    "    while right<=high:\n",
    "        temp.append(arr[right])\n",
    "        right+=1\n",
    "    for i in range(low,high+1):\n",
    "        arr[i] = temp[i-low]\n",
    "def m_sort(arr,low,high):\n",
    "    if low==high:\n",
    "        return\n",
    "    mid = (low+high)//2\n",
    "    m_sort(arr,low,mid)\n",
    "    m_sort(arr,mid+1,high)\n",
    "    merge_sorted_array(arr,low,mid,high)\n",
    "arr = [9, 4, 7, 6, 3, 1, 5]\n",
    "m_sort(arr,0,len(arr)-1)\n",
    "print(arr)"
   ]
  },
  {
   "cell_type": "markdown",
   "metadata": {},
   "source": [
    "## Quick Sort"
   ]
  },
  {
   "cell_type": "code",
   "execution_count": null,
   "metadata": {},
   "outputs": [],
   "source": [
    "def quick_sort(arr,low,high):\n",
    "    if low>=high:\n",
    "        return\n",
    "    pivot=arr[low]\n",
    "    i = low\n",
    "    j = high\n",
    "    while i<j:\n",
    "        while i<=high and arr[i]<=pivot:\n",
    "            i+=1\n",
    "        while j>=low and arr[j]>pivot:\n",
    "            j-=1\n",
    "        if i<j:\n",
    "            arr[i],arr[j] = arr[j],arr[i]\n",
    "    arr[low],arr[j] = arr[j],arr[low]\n",
    "    quick_sort(arr,low,j-1)\n",
    "    quick_sort(arr,j+1,high)\n",
    "    return arr\n",
    "arr=[4,6,2,5,7,9,1,3]\n",
    "quick_sort(arr,0,7)"
   ]
  }
 ],
 "metadata": {
  "kernelspec": {
   "display_name": "Python 3",
   "language": "python",
   "name": "python3"
  },
  "language_info": {
   "codemirror_mode": {
    "name": "ipython",
    "version": 3
   },
   "file_extension": ".py",
   "mimetype": "text/x-python",
   "name": "python",
   "nbconvert_exporter": "python",
   "pygments_lexer": "ipython3",
   "version": "3.8.5"
  }
 },
 "nbformat": 4,
 "nbformat_minor": 4
}
